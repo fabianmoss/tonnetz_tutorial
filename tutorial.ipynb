{
 "cells": [
  {
   "cell_type": "markdown",
   "metadata": {
    "slideshow": {
     "slide_type": "-"
    }
   },
   "source": [
    "# Liszt: *Am Grabe Richard Wagners*, S. 202 (1883)\n",
    "## Visualisierung tonaler Strukturen mittels *pitchplots* "
   ]
  },
  {
   "cell_type": "markdown",
   "metadata": {},
   "source": [
    "---"
   ]
  },
  {
   "cell_type": "markdown",
   "metadata": {
    "slideshow": {
     "slide_type": "-"
    }
   },
   "source": [
    "### 1. Vorbereitungen\n",
    "\n",
    "Zunächst ist es nötig, zwei Funktionen zu importieren, die die folgenden Analysen ermöglichen:\n",
    "\n",
    "- die Funktion `read_csv`, welche eine Tabelle einliest\n",
    "- die Funktion `tonnetz`, welche die Tonnetz-Visualisierungen erzeugt"
   ]
  },
  {
   "cell_type": "code",
   "execution_count": null,
   "metadata": {},
   "outputs": [],
   "source": [
    "from pandas import read_csv\n",
    "from pitchplots.static import tonnetz"
   ]
  },
  {
   "cell_type": "markdown",
   "metadata": {},
   "source": [
    "---"
   ]
  },
  {
   "cell_type": "markdown",
   "metadata": {
    "slideshow": {
     "slide_type": "slide"
    }
   },
   "source": [
    "Nach diesem Import können wir die beiden Funktionen benutzen. Zunächst lesen wir die Noten ein und speichern sie in einem Objekt namens `csv`."
   ]
  },
  {
   "cell_type": "code",
   "execution_count": null,
   "metadata": {},
   "outputs": [],
   "source": [
    "table = read_csv(\"data/am_grabe.csv\", index_col=0).reset_index(drop=True)"
   ]
  },
  {
   "cell_type": "markdown",
   "metadata": {},
   "source": [
    "Wir können uns dieses Objekt nun anschauen. Die Methode namens `head(n)` zeigt uns die ersten `n` Zeilen dieser Tabelle."
   ]
  },
  {
   "cell_type": "code",
   "execution_count": null,
   "metadata": {},
   "outputs": [],
   "source": [
    "table.head(10)"
   ]
  },
  {
   "cell_type": "markdown",
   "metadata": {},
   "source": [
    "Man sieht, dass eine ganze Reihe von Spalten erzeugt worden sind. Welche Bedeutung verbirgt sich hinter folgenden Spalten?\n",
    "\n",
    "- filepath\n",
    "- time_sign_num / time_sign_den\n",
    "- measure_no\n",
    "- no_accs \n",
    "- note_name\n",
    "- tpc\n",
    "- step\n",
    "- acc\n",
    "- octave\n",
    "- pitch \n",
    "- pitch-class\n",
    "- onset\n",
    "\n",
    "---"
   ]
  },
  {
   "cell_type": "markdown",
   "metadata": {},
   "source": [
    "### 2. Visualisierung und Analyse"
   ]
  },
  {
   "cell_type": "markdown",
   "metadata": {},
   "source": [
    "#### Das gesamte Stück"
   ]
  },
  {
   "cell_type": "markdown",
   "metadata": {},
   "source": [
    "Nachdem wir die Struktur der Tabelle verstanden haben, können wir daran gehen, die Daten in der Tabelle zu visualisieren. Im einfachsten Fall rufen wir die `tonnetz` Funktion auf und weisen ihr das Argument `csv` (welches auf die Tabelle verweist) zu:"
   ]
  },
  {
   "cell_type": "code",
   "execution_count": null,
   "metadata": {},
   "outputs": [],
   "source": [
    "tonnetz(table)"
   ]
  },
  {
   "cell_type": "markdown",
   "metadata": {},
   "source": [
    "Beschreiben Sie, was in dieser Visualisierung zu sehen ist. "
   ]
  },
  {
   "cell_type": "markdown",
   "metadata": {},
   "source": [
    "Wir können nun das konkrete Aussehen der Darstellung anpassen. \n",
    "Es ist im Grunde möglich, dies für jeden Funktionsaufruf separat zu tun. \n",
    "Da wir aber ein einheitliches der folgenden Grafiken haben möchten, speichern wir die Einstellungen in einer Variablen namens `kwargs`\n",
    "(kurz für \"keyword arguments\")."
   ]
  },
  {
   "cell_type": "code",
   "execution_count": null,
   "metadata": {},
   "outputs": [],
   "source": [
    "kwargs = {\n",
    "    \"center\" : \"C#\",\n",
    "    \"colorbar\" : False,\n",
    "    \"cmap\" : \"Reds\",\n",
    "    \"figsize\" : (10,10), \n",
    "    \"nan_color\" : \"w\",\n",
    "    \"edgecolor\" : \"k\",\n",
    "    \"fontsize\" : 2\n",
    "}"
   ]
  },
  {
   "cell_type": "code",
   "execution_count": null,
   "metadata": {},
   "outputs": [],
   "source": [
    "tonnetz(table, **kwargs)"
   ]
  },
  {
   "cell_type": "markdown",
   "metadata": {},
   "source": [
    "Der Doppelstern `**` wendet alle in `kwargs` gelisteten Eigenschaften auf die Funktion an.\n",
    "\n",
    "Beschreiben Sie die visuellen Veränderungen, die sich durch das hinzufügen der keywords ergeben haben.\n",
    "\n",
    "---"
   ]
  },
  {
   "cell_type": "markdown",
   "metadata": {},
   "source": [
    "#### Verschiedene Tonalitäten in verschiedenen Abschnitten"
   ]
  },
  {
   "cell_type": "markdown",
   "metadata": {},
   "source": [
    "Liszt verwendet in diesem Stück eine recht klare Aufteilung in Sektionen, welche je eigenen Tonalitäten unterworfen sind.\n",
    "\n",
    "Welche grobe Segmentierung für das Stück schlagen Sie vor?"
   ]
  },
  {
   "cell_type": "markdown",
   "metadata": {},
   "source": [
    "Schauen wir uns zunächst die Einleitung an (T. 1-8)."
   ]
  },
  {
   "cell_type": "markdown",
   "metadata": {},
   "source": [
    "[Noten? Hexatonic extract?]"
   ]
  },
  {
   "cell_type": "code",
   "execution_count": null,
   "metadata": {},
   "outputs": [],
   "source": [
    "tonnetz(table, measures=[1,8], **kwargs)"
   ]
  },
  {
   "cell_type": "markdown",
   "metadata": {},
   "source": [
    "1. Beschreiben Sie das Pattern, dass wir hier beobachten können.\n",
    "2. Welche (Un-)Regelmäßigkeiten weist es auf?"
   ]
  },
  {
   "cell_type": "markdown",
   "metadata": {},
   "source": [
    "Schauen wir nun auf den langen Mittelteil (T. 9-38). \n",
    "\n",
    "1. Wie ist er charakerisiert? \n",
    "2. Welches Pattern auf dem Tonnetz erwarten Sie?"
   ]
  },
  {
   "cell_type": "code",
   "execution_count": null,
   "metadata": {},
   "outputs": [],
   "source": [
    "tonnetz(table, measures=[9,38], **kwargs)"
   ]
  },
  {
   "cell_type": "markdown",
   "metadata": {},
   "source": [
    "Nun zum Schluss dieses Stückes (T. 46-55). \n",
    "\n",
    "1. Welche Tonalität liegt hier vor? \n",
    "2. Wie kann der kompositorische Prozess beschrieben werden?\n",
    "3. Welches Muster erwarten wir auf dem Tonnetz?\n",
    "4. Können Sie einen Bezug zu anderen Teilen des Stückes oder zu dessen Gesamtanlage herstellen?"
   ]
  },
  {
   "cell_type": "code",
   "execution_count": null,
   "metadata": {},
   "outputs": [],
   "source": [
    "tonnetz(table, measures=[46,55], **kwargs)"
   ]
  },
  {
   "cell_type": "markdown",
   "metadata": {},
   "source": [
    "---\n",
    "\n",
    "### Falls es die Zeit erlaubt...\n",
    "\n",
    "Probieren Sie, ein anderes Stück einzulesen, zu visualisieren und zu analysieren.\n",
    "Als Dateinamen stehen Ihnen folgende zur Verfügung:\n",
    "\n",
    "1. `\"data/la_rue.csv\"` (La Rue, Da Pacem Domine)\n",
    "2. `\"data/bach.csv\"` (Präludium No. 10 BWV 879 in e-Moll) \n",
    "3. `\"data/chopin.csv\"` (Chopin, Preludium in e-Moll)"
   ]
  },
  {
   "cell_type": "code",
   "execution_count": null,
   "metadata": {},
   "outputs": [],
   "source": [
    "# Schreiben Sie Ihren Code unter diese Zeile:\n",
    "\n",
    "\n"
   ]
  },
  {
   "cell_type": "markdown",
   "metadata": {},
   "source": [
    "---"
   ]
  },
  {
   "cell_type": "markdown",
   "metadata": {},
   "source": [
    "### 3 Diskussion\n",
    "\n",
    "1. Welche Vorzüge und Nachteile hat eine solche Art der visuellen Analyse?\n",
    "2. Können Sie sich weitere Anwendungsfälle vorstellen?\n",
    "3. Welche Aspekte können hier nicht berücksichtigt werden?\n",
    "4. Könnten derartige Visualisierungen auch für die Komposition von Nutzen sein?"
   ]
  }
 ],
 "metadata": {
  "kernelspec": {
   "display_name": "Python 3",
   "language": "python",
   "name": "python3"
  },
  "language_info": {
   "codemirror_mode": {
    "name": "ipython",
    "version": 3
   },
   "file_extension": ".py",
   "mimetype": "text/x-python",
   "name": "python",
   "nbconvert_exporter": "python",
   "pygments_lexer": "ipython3",
   "version": "3.6.0"
  }
 },
 "nbformat": 4,
 "nbformat_minor": 2
}
